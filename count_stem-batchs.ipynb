{
 "cells": [
  {
   "cell_type": "code",
   "execution_count": null,
   "metadata": {},
   "outputs": [],
   "source": [
    "#%matplotlib\n",
    "from time import time\n",
    "from stem_cells import STEM_CELLS"
   ]
  },
  {
   "cell_type": "code",
   "execution_count": null,
   "metadata": {},
   "outputs": [],
   "source": [
    "# lspan = ['A', 'B', 'C', 'D', 'E', 'F', 'G', 'H']\n",
    "# nspan = range(2,13)\n",
    "\n",
    "lspan = ['A']\n",
    "nspan = range(3,4)\n",
    "\n",
    "# list_experim = [[45,'HSC'],[46,'HPC'],[47,'HSC'],[57,'HSC'],\n",
    "#                [64,'HSC'],[67,'HSC'],[72,'HSC']]\n",
    "\n",
    "list_experim = [[45,'HSC'],[57,'HSC'],\n",
    "               [67,'HSC'],[72,'HSC']]\n",
    "\n",
    "for exp in list_experim:\n",
    "    \n",
    "    num_exp = exp[0]\n",
    "    kind_exp = exp[1]\n",
    "    print('##########################################')\n",
    "    print(f'###### Processing exp {num_exp}/{kind_exp}')\n",
    "    print('##########################################')\n",
    "    addr_imgs = f'Z:/Lionel_Chiron/Projects/stem_cells/data/AD-Exp00{num_exp}/{kind_exp}'\n",
    "    sc = STEM_CELLS(addr_imgs,\n",
    "                    list_models=['stem_only_flat_prec_close_ep15',\n",
    "                                 'stem_few_clean_ep20',\n",
    "                                 'stem_ep30', \n",
    "                                 'stem_small_filtered_ep15'],\n",
    "                    model_area='stem_area_ep5',\n",
    "                    model_clustering='cluster_pos_ep10',\n",
    "                    manual_annotations='Results_AD-Exp0064.xlsx', \n",
    "                    cell_type=addr_imgs.split('/')[-1],\n",
    "                    cmp_thr=127, \n",
    "                    span=[lspan,nspan] )\n",
    "\n",
    "    t0 = time()\n",
    "    for l in lspan:\n",
    "        for i in nspan:\n",
    "            curr_well = l+str(i)\n",
    "            sc.analyse_one_well(curr_well, time_range=None)\n",
    "    t1 = time()\n",
    "    print(f'time for analysing is {round((t1-t0)/60,2)} min')\n",
    "    sc.save_csv()\n",
    "    sc.plot_analysis_all_wells()"
   ]
  },
  {
   "cell_type": "markdown",
   "metadata": {},
   "source": [
    "## Available models"
   ]
  },
  {
   "cell_type": "raw",
   "metadata": {},
   "source": [
    "stem_ep30 : training_hemato_stem_cells-ep30-bs4_date25-07-2021-16-01\n",
    "stem1_ep5 : training_hemato_stem_cells1-ep5-bs4_date14-09-2021-11-13\n",
    "stem1_ep15 : training_hemato_stem_cells1-ep15-bs4_date14-09-2021-11-06\n",
    "stem1_ep30 : training_hemato_stem_cells1-ep30-bs4_date14-09-2021-10-37\n",
    "stem_dec_ep30 : training_dec15th2021_myhalf-ep30-bs4_date24-03-2022-18-52\n",
    "stem_dec_ep60 : training_dec15th2021_myhalf-ep60-bs4_date24-03-2022-21-53\n",
    "stem_dec_ep90 : training_dec15th2021_myhalf-ep90-bs4_date21-12-2021-19-18\n",
    "stem0_myhalf_ep30 : myhalf_stem0_jan3rd_2021-ep30-bs4_date04-01-2022-10-57\n",
    "stem0_myhalf_ep60 : myhalf_stem0_jan3rd_2021-ep60-bs4_date04-01-2022-13-46\n",
    "stem0_myhalf_ep15 : myhalf_stem0_jan3rd_2021-ep15-bs4_date04-01-2022-14-48\n",
    "stem_few_ep5 : stem_few-ep5-bs4_date05-01-2022-19-50\n",
    "stem_few_ep20 : stem_few-ep20-bs4_date07-01-2022-15-50\n",
    "stem_few_ep30 : stem_few-ep30-bs4_date06-01-2022-17-58\n",
    "stem_few_ep40 : stem_few-ep40-bs4_date07-01-2022-19-48\n",
    "stem_few_ep50 : stem_few-ep50-bs4_date06-01-2022-19-20\n",
    "stem_few_clean_ep20 : stem_few_clean-ep20-bs4_date31-03-2022-15-14\n",
    "stem_only_flat_ep15 : stem_only_flat-ep15-bs4_date19-04-2022-17-18\n",
    "stem_only_flat_precise_ep15 : stem_only_flat_precise-ep15-bs4_date06-07-2022-16-00\n",
    "stem_only_flat_prec_close_ep15 : stem_only_flat_prec_close-ep15-bs4_date06-07-2022-18-34\n",
    "cluster_pos_ep10 : clustering_pos-ep10-bs4_date29-04-2022-10-51\n",
    "stem_small_ep15 : stem_small-ep15-bs4_date07-07-2022-19-28\n",
    "stem_small_no_stripe_ep15 : stem_small_no_stripe-ep15-bs4_date08-07-2022-17-18"
   ]
  },
  {
   "cell_type": "code",
   "execution_count": null,
   "metadata": {},
   "outputs": [],
   "source": []
  }
 ],
 "metadata": {
  "kernelspec": {
   "display_name": "Python 3",
   "language": "python",
   "name": "python3"
  },
  "language_info": {
   "codemirror_mode": {
    "name": "ipython",
    "version": 3
   },
   "file_extension": ".py",
   "mimetype": "text/x-python",
   "name": "python",
   "nbconvert_exporter": "python",
   "pygments_lexer": "ipython3",
   "version": "3.7.7"
  }
 },
 "nbformat": 4,
 "nbformat_minor": 4
}
