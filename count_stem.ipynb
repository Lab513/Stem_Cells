{
 "cells": [
  {
   "cell_type": "code",
   "execution_count": 1,
   "metadata": {},
   "outputs": [],
   "source": [
    "#%matplotlib\n",
    "from time import time\n",
    "from stem_cells import STEM_CELLS"
   ]
  },
  {
   "cell_type": "markdown",
   "metadata": {},
   "source": [
    "### folder with experiments"
   ]
  },
  {
   "cell_type": "code",
   "execution_count": null,
   "metadata": {},
   "outputs": [],
   "source": [
    "addr_imgs = 'E:/Incucyte data/AD-Exp0071/HSC'                   # folder with experiments"
   ]
  },
  {
   "cell_type": "markdown",
   "metadata": {},
   "source": [
    "### object stem cells"
   ]
  },
  {
   "cell_type": "code",
   "execution_count": null,
   "metadata": {},
   "outputs": [],
   "source": [
    "sc = STEM_CELLS(addr_imgs, model='stem_ep30')"
   ]
  },
  {
   "cell_type": "markdown",
   "metadata": {},
   "source": [
    "### analysis through the wells"
   ]
  },
  {
   "cell_type": "code",
   "execution_count": null,
   "metadata": {
    "scrolled": true
   },
   "outputs": [],
   "source": [
    "lspan = ['A', 'B', 'C', 'D', 'E', 'F', 'G', 'H']\n",
    "nspan = range(2,10)\n",
    "\n",
    "t0 = time()\n",
    "for l in lspan:\n",
    "    for i in nspan:\n",
    "        curr_well = l+str(i)\n",
    "        sc.analyse_one_well(curr_well)\n",
    "t1 = time()\n",
    "print(f'time for analysing is {round((t1-t0)/60,2)} min')\n",
    "sc.save_csv()\n",
    "sc.plot_analysis_all_wells()"
   ]
  },
  {
   "cell_type": "code",
   "execution_count": null,
   "metadata": {},
   "outputs": [],
   "source": [
    "t0 = time()\n",
    "lcells = ['A3', 'A7', 'B4', 'B8', 'C2']\n",
    "for curr_well in lcells:\n",
    "    sc.analyse_one_well(curr_well)\n",
    "t1 = time()\n",
    "print(f'time for analysing is {round((t1-t0)/60,2)} min')\n",
    "sc.save_csv()\n",
    "sc.plot_analysis_all_wells()"
   ]
  },
  {
   "cell_type": "markdown",
   "metadata": {},
   "source": [
    "### Remarques"
   ]
  },
  {
   "cell_type": "raw",
   "metadata": {},
   "source": [
    "AD-Exp0064/HSC\n",
    "A2, les cellules ne semblent pas très bien repérées alors qu'on les repère assez bien à l'oeil.. \n",
    "A3, la courbe est pas mal.. prob erreur d'une unité 3 au lieu de 2 puis 5, 10 \n",
    "B4, réussir à avoir dernier pic.. \n",
    "  * pb de cellules détectées ds les formes allongées.. faux positifs.. "
   ]
  }
 ],
 "metadata": {
  "kernelspec": {
   "display_name": "Python 3",
   "language": "python",
   "name": "python3"
  },
  "language_info": {
   "codemirror_mode": {
    "name": "ipython",
    "version": 3
   },
   "file_extension": ".py",
   "mimetype": "text/x-python",
   "name": "python",
   "nbconvert_exporter": "python",
   "pygments_lexer": "ipython3",
   "version": "3.7.7"
  }
 },
 "nbformat": 4,
 "nbformat_minor": 4
}
